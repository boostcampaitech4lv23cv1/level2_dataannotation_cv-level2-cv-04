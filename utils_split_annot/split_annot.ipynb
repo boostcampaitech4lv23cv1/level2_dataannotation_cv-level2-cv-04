{
 "cells": [
  {
   "cell_type": "code",
   "execution_count": null,
   "metadata": {},
   "outputs": [],
   "source": [
    "import json\n",
    "import os\n",
    "import shutil\n",
    "from glob import glob\n",
    "from PIL import Image\n",
    "\n",
    "import numpy as np\n",
    "from tqdm import tqdm\n",
    "\n",
    "import random"
   ]
  },
  {
   "cell_type": "code",
   "execution_count": null,
   "metadata": {},
   "outputs": [],
   "source": [
    "## 주의! 2번 실행시키면 안됩니다\n",
    "def diminish_annot(json_path:str, num_of_subset=1000):\n",
    "\n",
    "    # train.json을 엽니다\n",
    "    with open(json_path, 'r') as f:\n",
    "            old_json = json.load(f)\n",
    "\n",
    "    # 전체 이미지의 개수를 출력합니다\n",
    "    print(\"total number of image\", len(old_json[\"images\"]))\n",
    "    \n",
    "    # 무작위로 num_of_subset개의 이미지를 서브 샘플링하여 새로운 json을 생성합니다.\n",
    "    # 그리고 splited한 dataset의 개수를 프린트합니다\n",
    "    new_json = dict()\n",
    "    new_json[\"images\"] = dict(random.sample(old_json[\"images\"].items(), num_of_subset))\n",
    "    print('num of images after subset', len(new_json[\"images\"]))\n",
    "\n",
    "    # full img가 담긴 json(원본)을 full_train.json으로 변경하여 저장합니다\n",
    "    old_json_path = json_path.replace(\"train.json\", \"full_train.json\")\n",
    "    with open(old_json_path, 'w', encoding='utf-8') as f:\n",
    "        json.dump(old_json, f, indent=4)\n",
    "\n",
    "    # num_of_subset으로 줄여진 json을 train.json으로 저장합니다\n",
    "    with open(json_path, 'w', encoding='utf-8') as f:\n",
    "        json.dump(new_json, f, indent=4)\n"
   ]
  },
  {
   "cell_type": "code",
   "execution_count": null,
   "metadata": {},
   "outputs": [],
   "source": [
    "dataset_name = \"ICDAR17_Korean\"\n",
    "JSON_PATH = os.path.join('/opt/ml/input/data/', dataset_name, 'ufo', 'train.json')\n",
    "diminish_annot(JSON_PATH, 1000)"
   ]
  }
 ],
 "metadata": {
  "kernelspec": {
   "display_name": "base",
   "language": "python",
   "name": "python3"
  },
  "language_info": {
   "name": "python",
   "version": "3.9.12 (main, Apr  4 2022, 05:22:27) [MSC v.1916 64 bit (AMD64)]"
  },
  "orig_nbformat": 4,
  "vscode": {
   "interpreter": {
    "hash": "4633235190bbf75d7f57fc2411cede51fb4932ab047194ce4c0de6f7f29b2901"
   }
  }
 },
 "nbformat": 4,
 "nbformat_minor": 2
}
