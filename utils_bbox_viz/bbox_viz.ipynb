{
 "cells": [
  {
   "cell_type": "code",
   "execution_count": null,
   "metadata": {},
   "outputs": [],
   "source": [
    "import os\n",
    "import os.path as osp\n",
    "import glob\n",
    "import json\n",
    "from matplotlib import pyplot as plt\n",
    "import numpy as np\n",
    "import cv2\n"
   ]
  },
  {
   "cell_type": "code",
   "execution_count": null,
   "metadata": {},
   "outputs": [],
   "source": [
    "def make_gt_images(json_file_path:str, img_dir_path:str, save_dir_path:str) -> None:\n",
    "    \"\"\"이미지에 bbox를 그려주는 함수\n",
    "\n",
    "    Args:\n",
    "        json_file_path (str): json file의 path\n",
    "        img_dir_path (str): 이미지 파일이 저장된 폴더의 path\n",
    "        save_dir_path (str): bbox가 그려진 이미지를 저장할 폴더\n",
    "    \"\"\"\n",
    "    os.makedirs(save_dir_path, exist_ok=True)\n",
    "\n",
    "    # bbox를 그릴 색상 코드\n",
    "    blue_color_code = (255,0,0) # BGR\n",
    "    red_color_code = (0,0,255) # BGR\n",
    "\n",
    "\n",
    "    # json 파일을 열어 dict로 json을 read\n",
    "    with open(json_file_path) as f:\n",
    "        json_obj = json.load(f)\n",
    "    \n",
    "    # per 이미지 루프\n",
    "    for file_name in json_obj['images'].keys():\n",
    "        img_file_path = os.path.join(img_dir_path,file_name)\n",
    "        img = cv2.imread(img_file_path, 1)\n",
    "        img = cv2.cvtColor(img, cv2.COLOR_BGR2RGB)\n",
    "        \n",
    "        # per bbox 루프\n",
    "        # 계속해서 box를 추가해서 그린다\n",
    "        for word in json_obj['images'][file_name]['words']:\n",
    "            points = json_obj['images'][file_name]['words'][word][\"points\"]\n",
    "            # img = cv2.rectangle(img, np.int_(points[0]), np.int_(points[2]), red_color_code, 5) # annot가 polygon 이므로 rectangle 쓰면 안됨\n",
    "            # np.int_는 float로 저장된 coord를 int로 바꾸는 함수, 오류생겨서 추가\n",
    "            # 이번 프로젝트는 4개의 bbox만 있으므로 컴프리헨션을 안쓸거임\n",
    "            points = np.array([np.int_(points[0]), np.int_(points[1]), np.int_(points[2]), np.int_(points[3])], np.int32)\n",
    "            img = cv2.polylines(img, [points], True, red_color_code, 7)\n",
    "\n",
    "        # 이미지에 gt prefix를 붙여서\n",
    "        img_save_path = os.path.join(save_dir_path, 'gt_' + file_name)\n",
    "        # 저장한다\n",
    "        cv2.imwrite(img_save_path, img)"
   ]
  },
  {
   "cell_type": "code",
   "execution_count": null,
   "metadata": {},
   "outputs": [],
   "source": [
    "# img grid view로 보기\n",
    "def show_grid_random_images(save_dir_path:str, nrow:int=3, ncol:int=3)->None:\n",
    "    \n",
    "    import random\n",
    "    from PIL import Image\n",
    "    from mpl_toolkits.axes_grid1 import ImageGrid\n",
    "\n",
    "    file_path_list = list()\n",
    "\n",
    "    # 지정한 폴더의 모든 파일 path 중에서\n",
    "    for file_name in glob.glob(save_dir_path+'/*.jpg'):\n",
    "        file_path_list.append(file_name)\n",
    "    \n",
    "    # nrow*ncol 개의 이미지들의 path를 가져옴\n",
    "    # print(file_path_list)\n",
    "    selected_paths = random.sample(file_path_list, nrow*ncol)\n",
    "\n",
    "    images = []\n",
    "\n",
    "    # 선택한 이미지들을 np로 변환시키고\n",
    "    for path in selected_paths:\n",
    "        img = Image.open(path)\n",
    "        img = np.array(img)\n",
    "        images.append(img)\n",
    "    \n",
    "    # grid로 show\n",
    "    fig = plt.figure(figsize=(30,30))\n",
    "    for idx in range(len(images)):\n",
    "        plt.subplot(nrow, ncol, idx+1)\n",
    "        plt.imshow(images[idx])\n",
    "        plt.axis('off')\n",
    "        \n",
    "    plt.show()   "
   ]
  },
  {
   "cell_type": "code",
   "execution_count": null,
   "metadata": {},
   "outputs": [],
   "source": [
    "json_file_path = '/opt/ml/input/data/ICDAR19/ufo/train.json'\n",
    "img_dir_path = '/opt/ml/input/data/ICDAR19/images'\n",
    "save_dir_path = '/opt/ml/input/data/ICDAR19/gt_images'\n",
    "\n",
    "make_gt_images(json_file_path, img_dir_path, save_dir_path)"
   ]
  },
  {
   "cell_type": "code",
   "execution_count": null,
   "metadata": {},
   "outputs": [],
   "source": [
    "save_dir_path = '/opt/ml/input/data/KAIST_MIX_1143/gt_images'\n",
    "show_grid_random_images(save_dir_path)"
   ]
  },
  {
   "cell_type": "code",
   "execution_count": null,
   "metadata": {},
   "outputs": [],
   "source": [
    "save_dir_path = '/opt/ml/input/data/aihub_1/gt_images'\n",
    "show_grid_random_images(save_dir_path)"
   ]
  },
  {
   "cell_type": "code",
   "execution_count": null,
   "metadata": {},
   "outputs": [],
   "source": [
    "save_dir_path = '/opt/ml/input/data/ICDAR17_Korean/gt_images'\n",
    "show_grid_random_images(save_dir_path)"
   ]
  }
 ],
 "metadata": {
  "kernelspec": {
   "display_name": "Python 3.8.5 ('base')",
   "language": "python",
   "name": "python3"
  },
  "language_info": {
   "codemirror_mode": {
    "name": "ipython",
    "version": 3
   },
   "file_extension": ".py",
   "mimetype": "text/x-python",
   "name": "python",
   "nbconvert_exporter": "python",
   "pygments_lexer": "ipython3",
   "version": "3.8.5 (default, Sep  4 2020, 07:30:14) \n[GCC 7.3.0]"
  },
  "orig_nbformat": 4,
  "vscode": {
   "interpreter": {
    "hash": "d4d1e4263499bec80672ea0156c357c1ee493ec2b1c70f0acce89fc37c4a6abe"
   }
  }
 },
 "nbformat": 4,
 "nbformat_minor": 2
}
