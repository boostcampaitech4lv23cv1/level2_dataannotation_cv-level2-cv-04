{
 "cells": [
  {
   "attachments": {},
   "cell_type": "markdown",
   "metadata": {},
   "source": [
    "train.json을 입력받아 random으로 20%의 이미지를 나눔.  \n",
    "나눈후 생성되는 파일명은 splited_train.json과 splited_valid.json 파일임\n",
    "  "
   ]
  },
  {
   "cell_type": "code",
   "execution_count": 13,
   "metadata": {},
   "outputs": [],
   "source": [
    "import json\n",
    "import os.path as osp\n",
    "from sklearn.model_selection import train_test_split\n",
    "import numpy as np\n",
    "import random\n",
    "import pandas as pd\n",
    "from sklearn.model_selection import train_test_split"
   ]
  },
  {
   "cell_type": "code",
   "execution_count": 14,
   "metadata": {},
   "outputs": [],
   "source": [
    "def seed_everything(seed:int = 42):\n",
    "    \"\"\"재현을 하기 위한 시드 고정 함수\n",
    "\n",
    "    Args:\n",
    "        seed (int, optional): 시드. Defaults to 42.\n",
    "    \"\"\"\n",
    "    np.random.seed(seed)\n",
    "    random.seed(seed)"
   ]
  },
  {
   "cell_type": "code",
   "execution_count": 15,
   "metadata": {},
   "outputs": [],
   "source": [
    "def split_json(ORIGINAL_JSON_FILE_DIR:str = \"/opt/ml/input/data/ICDAR17_Korean/ufo\", ratio:float = 0.2):\n",
    "    \"\"\" 디렉토리에 있는 train.json을 지정한 비율(ratio)로 나눠서 두개의 .json 파일을 만드는 함수\n",
    "\n",
    "    Args:\n",
    "        ORIGINAL_JSON_FILE_DIR (str, optional): 폴더 경로. Defaults to \"/opt/ml/input/data/ICDAR17_Korean/ufo\".\n",
    "        ratio (float, optional): 나누는 비율. Defaults to 0.2.\n",
    "    \"\"\"\n",
    "    seed_everything(42)\n",
    "    TRAIN_JSON_PATH = osp.join(ORIGINAL_JSON_FILE_DIR, \"train.json\")\n",
    "\n",
    "    with open(TRAIN_JSON_PATH, 'r') as f:\n",
    "        anno = json.load(f)\n",
    "    ## images > image1, image2, ...\n",
    "\n",
    "\n",
    "    ## 시리즈 타입으로 변환합니다 sklearn의 train_test_split을 이용하기 위해서 입니다.\n",
    "    s = pd.Series(anno[\"images\"])\n",
    "\n",
    "    ## 데이터를 스필릿 합니다.\n",
    "    dict_valid, dict_train = [i.to_dict() for i in train_test_split(s, train_size=ratio)]\n",
    "\n",
    "    ## 모니터링을 위해서 result를 출력합니다.\n",
    "    print(\"number of images:\", len(anno[\"images\"]))\n",
    "    print(f\"split ratio is {ratio}\")\n",
    "    print(\"number of train_images:\", len(dict_train))\n",
    "    print(\"number of valid_images:\", len(dict_valid))\n",
    "\n",
    "    splited_train_json = {\"images\" : dict_train}\n",
    "    splited_valid_json = {\"images\" : dict_valid}\n",
    "\n",
    "    with open(osp.join(ORIGINAL_JSON_FILE_DIR, 'splited_train.json'), 'w', encoding='utf-8') as f:\n",
    "        json.dump(splited_train_json, f, indent=4)\n",
    "    \n",
    "    with open(osp.join(ORIGINAL_JSON_FILE_DIR, 'splited_valid.json'), 'w', encoding='utf-8') as f:\n",
    "        json.dump(splited_valid_json, f, indent=4)"
   ]
  },
  {
   "cell_type": "code",
   "execution_count": 16,
   "metadata": {},
   "outputs": [
    {
     "name": "stdout",
     "output_type": "stream",
     "text": [
      "number of images: 1000\n",
      "split ratio is 0.1\n",
      "number of train_images: 900\n",
      "number of valid_images: 100\n"
     ]
    }
   ],
   "source": [
    "split_json(ORIGINAL_JSON_FILE_DIR  = \"/opt/ml/input/data/aihub_1/ufo\", ratio = 0.1)"
   ]
  }
 ],
 "metadata": {
  "kernelspec": {
   "display_name": "base",
   "language": "python",
   "name": "python3"
  },
  "language_info": {
   "codemirror_mode": {
    "name": "ipython",
    "version": 3
   },
   "file_extension": ".py",
   "mimetype": "text/x-python",
   "name": "python",
   "nbconvert_exporter": "python",
   "pygments_lexer": "ipython3",
   "version": "3.8.5"
  },
  "orig_nbformat": 4,
  "vscode": {
   "interpreter": {
    "hash": "d4d1e4263499bec80672ea0156c357c1ee493ec2b1c70f0acce89fc37c4a6abe"
   }
  }
 },
 "nbformat": 4,
 "nbformat_minor": 2
}
