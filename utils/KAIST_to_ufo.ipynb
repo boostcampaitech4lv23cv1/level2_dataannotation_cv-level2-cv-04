{
 "cells": [
  {
   "cell_type": "code",
   "execution_count": 56,
   "metadata": {},
   "outputs": [],
   "source": [
    "import glob\n",
    "import os\n",
    "import os.path as osp\n",
    "import shutil\n",
    "import xml.etree.ElementTree as ET\n",
    "import pprint\n",
    "import json"
   ]
  },
  {
   "cell_type": "code",
   "execution_count": 57,
   "metadata": {},
   "outputs": [],
   "source": [
    "# 새롭게 만들 파일 태그\n",
    "# 이미지 dir 경로\n",
    "# annot dir 경로\n",
    "# 새롭게 만들 파일 dir 이름\n",
    "# 언어 [\"ko\", \"en\"]\n",
    "\n",
    "def change_KAIST_to_ufo():\n",
    "\n",
    "    glob_jpg = \"/opt/ml/input/data/KAIST/English/**/*.JPG\" # FIXME\n",
    "    glob_xml = \"/opt/ml/input/data/KAIST/English/**/*.xml\" # FIXME\n",
    "    language = \"en\" # FIXME\n",
    "    new_file_tag = \"en\" # FIXME\n",
    "    new_folder_name = \"KAIST_EN\" # FIXME\n",
    "    \n",
    "    print(\"jpg 파일 개수:\",len(glob.glob(glob_jpg,recursive=True))) \n",
    "    print(\"xml 파일 개수:\",len(glob.glob(glob_xml,recursive=True))) \n",
    "\n",
    "    \n",
    "    img_names = []\n",
    "    annot_names = []\n",
    "\n",
    "    img_paths = glob.glob(glob_jpg,recursive=True) # FIXME\n",
    "    annot_paths = glob.glob(glob_xml,recursive=True) # FIXME\n",
    "\n",
    "    # 일단 폴더를 만듭니다\n",
    "    if len(img_paths) != 0:\n",
    "        os.makedirs(osp.join(\"/opt/ml/input/data/\", f\"{new_folder_name}\", \"images\"), exist_ok=True)\n",
    "        os.makedirs(osp.join(\"/opt/ml/input/data/\", f\"{new_folder_name}\", \"annots\"), exist_ok=True)\n",
    "        os.makedirs(osp.join(\"/opt/ml/input/data/\", f\"{new_folder_name}\", \"ufo\"), exist_ok=True)\n",
    "    else:\n",
    "        return print(\"지정한 디렉토리에 jpg파일이 없습니다\")\n",
    "    \n",
    "    \n",
    "    for img_path in img_paths:\n",
    "        # print(osp.basename(img_path)) # 확장자를 포함한 파일의 이름\n",
    "        osp.basename(img_path).split(\".\")[0] # 확장자를 제외한 파일의 이름\n",
    "        img_names.append(osp.basename(img_path).split(\".\")[0]) # 확장자를 제외한 파일의 이름\n",
    "    \n",
    "    for annot_path in annot_paths:\n",
    "        # osp.basename(annot_path) # 확장자를 포함한 파일 이름\n",
    "        osp.basename(annot_path).split(\".\")[0] # 확장자를 제외한 파일 이름\n",
    "        annot_names.append(osp.basename(annot_path).split(\".\")[0]) # 확장자를 제외한 파일 이름\n",
    "\n",
    "    \n",
    "\n",
    "    # 이미지 기준으로 새롭게 임시 라벨을 만듭니다 임시라벨은 annots 폴더에 저장됩니다\n",
    "    for idx, img_file_name, img_path in zip(range(len(img_paths)), img_names, img_paths):\n",
    "        # 이미지에 annot가 존재하면\n",
    "        if img_file_name in annot_names:\n",
    "            # 이미지를 이름바꿔 복사\n",
    "            src = img_path\n",
    "            dst = osp.join(\"/opt/ml/input/data/\", f\"{new_folder_name}\", \"images\", f\"{new_file_tag}_{idx}.jpg\")\n",
    "            shutil.copy(src, dst)\n",
    "\n",
    "            annot_path = \"/\".join(img_path.split(\"/\")[:-1])\n",
    "            # print(annot_path)\n",
    "            # annot를 임시 annots 폴더로 이름바꿔 복사\n",
    "            _src = osp.join(annot_path, f\"{img_file_name}.xml\")\n",
    "            _dst = osp.join(\"/opt/ml/input/data/\", f\"{new_folder_name}\", \"annots\", f\"{new_file_tag}_{idx}.xml\")\n",
    "            shutil.copy(_src, _dst)\n",
    "    \n",
    "    annot_paths = glob.glob(f\"/opt/ml/input/data/{new_folder_name}/annots/*.xml\")\n",
    "    new_img_paths = glob.glob(f\"/opt/ml/input/data/{new_folder_name}/images/*.jpg\")\n",
    "    print(\"제대로 변환 되었는가?:\", len(new_img_paths) == len(annot_paths))\n",
    "    print(f\"변경된 데이터 개수 {len(new_img_paths)}\")\n",
    "    \n",
    "    ufo = dict(images=dict())\n",
    "    image_names = list\n",
    "    \n",
    "    # annots 폴더에 있는 xml들을 하나의 json으로 만듭니다\n",
    "    cnt = 0\n",
    "    for annot_path in annot_paths:\n",
    "        fname = osp.basename(annot_path).split(\".\")[0] + '.jpg'\n",
    "        tree = ET.parse(annot_path)\n",
    "        root = tree.getroot()\n",
    "        dict_res = root.find(\"image\").find(\"resolution\").attrib\n",
    "        dict_words = dict()\n",
    "\n",
    "        if len(root.find(\"image\").find(\"words\").findall(\"word\")) < 0:\n",
    "            print('bbox가 없는 annot가 존재')\n",
    "        # print(len(root.find(\"image\").find(\"words\").findall(\"word\")))\n",
    "        # bbox마다 돌아서 dict를 만든다\n",
    "        for idx, word in enumerate(root.find(\"image\").find(\"words\").findall(\"word\")):\n",
    "            dict_area = word.attrib\n",
    "            x1, y1 = int(dict_area[\"x\"]), int(dict_area[\"y\"])\n",
    "            x2, y2 = int(dict_area[\"x\"])+int(dict_area[\"width\"]), int(dict_area[\"y\"])\n",
    "            x3, y3 = int(dict_area[\"x\"])+int(dict_area[\"width\"]), int(dict_area[\"y\"])+int(dict_area[\"height\"])\n",
    "            x4, y4 = int(dict_area[\"x\"]), int(dict_area[\"y\"])+int(dict_area[\"height\"])\n",
    "\n",
    "            if int(dict_res[\"y\"]) < y1 or y1 < 0 or \\\n",
    "                int(dict_res[\"y\"]) < y2 or y2 < 0 or \\\n",
    "                    int(dict_res[\"y\"]) < y3 or y3 < 0 or \\\n",
    "                        int(dict_res[\"y\"]) < y4 or y4 < 0 or \\\n",
    "                            int(dict_res[\"x\"]) < x1 or x1 < 0 or \\\n",
    "                                int(dict_res[\"x\"]) < x2 or x2 < 0 or \\\n",
    "                                    int(dict_res[\"x\"]) < x3 or x3 < 0 or \\\n",
    "                                        int(dict_res[\"x\"]) < x4 or x4 < 0 :\n",
    "                print(\"이상한 bbox 가 발견되었으므로 건너띕니다.\")\n",
    "                continue\n",
    "\n",
    "            dict_words[str(idx)] = dict(points=[[x1,y1],[x2,y2],[x3,y3],[x4,y4]],\n",
    "                                        transcription = \"temp\", \n",
    "                                        language = [f\"{language}\"],\n",
    "                                        illegibility = False,\n",
    "                                        orientation = \"Horizontal\" if int(dict_res[\"x\"]) >= int(dict_res[\"y\"]) else \"Vertical\",\n",
    "                                        word_tags = None)\n",
    "        # print(len(dict_words) is 0)\n",
    "        if len(dict_words) == 0:\n",
    "            cnt += 1\n",
    "            print(f\"{cnt}번째 제거이미지가 발견되었습니다\")\n",
    "            continue\n",
    "\n",
    "        # 만들어진 하나 이미지의 bbox들을 기록\n",
    "        ufo[\"images\"][str(fname)] = dict(img_h=int(dict_res[\"y\"]),\n",
    "                                         img_w=int(dict_res[\"x\"]),\n",
    "                                         words = dict_words,\n",
    "                                         tags = None)\n",
    "    print(\"사용 가능한 이미지의 개수:\", len(ufo[\"images\"]))\n",
    "\n",
    "    ufo_dir = osp.join(\"/opt/ml/input/data/\", f\"{new_folder_name}\", \"ufo\")\n",
    "    with open(os.path.join(ufo_dir, 'train.json'), 'w', encoding='utf-8') as f:\n",
    "        json.dump(ufo, f, indent=4)\n",
    "\n",
    "    # pprint.pprint(ufo)\n"
   ]
  },
  {
   "cell_type": "code",
   "execution_count": 58,
   "metadata": {},
   "outputs": [
    {
     "name": "stdout",
     "output_type": "stream",
     "text": [
      "jpg 파일 개수: 166\n",
      "xml 파일 개수: 211\n",
      "제대로 변환 되었는가?: True\n",
      "변경된 데이터 개수 166\n",
      "이상한 bbox 가 발견되었으므로 건너띕니다.\n",
      "1번째 제거이미지가 발견되었습니다\n",
      "이상한 bbox 가 발견되었으므로 건너띕니다.\n",
      "사용 가능한 이미지의 개수: 165\n"
     ]
    }
   ],
   "source": [
    "change_KAIST_to_ufo()"
   ]
  },
  {
   "attachments": {},
   "cell_type": "markdown",
   "metadata": {},
   "source": [
    "ko  \n",
    "jpg 파일 개수: 677  \n",
    "xml 파일 개수: 712  \n",
    "제대로 변환 되었는가?: True  \n",
    "변경된 데이터 개수 663  \n",
    "사용 가능한 이미지의 개수: 659  \n",
    "  \n",
    "en  \n",
    "jpg 파일 개수: 166  \n",
    "xml 파일 개수: 211  \n",
    "제대로 변환 되었는가?: True  \n",
    "변경된 데이터 개수 166  \n",
    "사용 가능한 이미지의 개수: 165  \n",
    "\n"
   ]
  },
  {
   "cell_type": "code",
   "execution_count": 60,
   "metadata": {},
   "outputs": [
    {
     "data": {
      "text/plain": [
       "824"
      ]
     },
     "execution_count": 60,
     "metadata": {},
     "output_type": "execute_result"
    }
   ],
   "source": [
    "659+165"
   ]
  },
  {
   "cell_type": "code",
   "execution_count": null,
   "metadata": {},
   "outputs": [],
   "source": []
  }
 ],
 "metadata": {
  "kernelspec": {
   "display_name": "base",
   "language": "python",
   "name": "python3"
  },
  "language_info": {
   "codemirror_mode": {
    "name": "ipython",
    "version": 3
   },
   "file_extension": ".py",
   "mimetype": "text/x-python",
   "name": "python",
   "nbconvert_exporter": "python",
   "pygments_lexer": "ipython3",
   "version": "3.8.5"
  },
  "orig_nbformat": 4,
  "vscode": {
   "interpreter": {
    "hash": "d4d1e4263499bec80672ea0156c357c1ee493ec2b1c70f0acce89fc37c4a6abe"
   }
  }
 },
 "nbformat": 4,
 "nbformat_minor": 2
}
